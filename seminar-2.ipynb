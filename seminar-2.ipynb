{
 "cells": [
  {
   "cell_type": "code",
   "execution_count": 23,
   "id": "talented-nelson",
   "metadata": {},
   "outputs": [],
   "source": [
    "import scipy.stats as ss\n",
    "import numpy as np\n",
    "import pandas as pd\n",
    "import seaborn as sns\n",
    "import pingouin"
   ]
  },
  {
   "cell_type": "code",
   "execution_count": 17,
   "id": "natural-abuse",
   "metadata": {},
   "outputs": [],
   "source": [
    "X = ss.norm.rvs(0, 1, size=100)\n",
    "Y = ss.norm.rvs(0, 1, size=100)\n",
    "Z = ss.norm.rvs(0, 1, size=100)\n",
    "A = np.asarray([[1, 1, 1],[0.1, -0.7, 0.2],[-0.1, 0.2, 0.8]])\n",
    "U, V, W = A.dot(np.asarray([X,Y,Z]))"
   ]
  },
  {
   "cell_type": "code",
   "execution_count": 25,
   "id": "sustained-champagne",
   "metadata": {},
   "outputs": [
    {
     "data": {
      "text/html": [
       "<div>\n",
       "<style scoped>\n",
       "    .dataframe tbody tr th:only-of-type {\n",
       "        vertical-align: middle;\n",
       "    }\n",
       "\n",
       "    .dataframe tbody tr th {\n",
       "        vertical-align: top;\n",
       "    }\n",
       "\n",
       "    .dataframe thead th {\n",
       "        text-align: right;\n",
       "    }\n",
       "</style>\n",
       "<table border=\"1\" class=\"dataframe\">\n",
       "  <thead>\n",
       "    <tr style=\"text-align: right;\">\n",
       "      <th></th>\n",
       "      <th>0</th>\n",
       "      <th>1</th>\n",
       "      <th>2</th>\n",
       "      <th>3</th>\n",
       "      <th>4</th>\n",
       "      <th>5</th>\n",
       "    </tr>\n",
       "  </thead>\n",
       "  <tbody>\n",
       "    <tr>\n",
       "      <th>0</th>\n",
       "      <td>1.000000</td>\n",
       "      <td>0.495194</td>\n",
       "      <td>0.489484</td>\n",
       "      <td>-0.379274</td>\n",
       "      <td>-0.475395</td>\n",
       "      <td>0.745192</td>\n",
       "    </tr>\n",
       "    <tr>\n",
       "      <th>1</th>\n",
       "      <td>0.495194</td>\n",
       "      <td>1.000000</td>\n",
       "      <td>0.245807</td>\n",
       "      <td>-0.285896</td>\n",
       "      <td>0.990424</td>\n",
       "      <td>-0.131407</td>\n",
       "    </tr>\n",
       "    <tr>\n",
       "      <th>2</th>\n",
       "      <td>0.489484</td>\n",
       "      <td>0.245807</td>\n",
       "      <td>1.000000</td>\n",
       "      <td>-0.006435</td>\n",
       "      <td>-0.346976</td>\n",
       "      <td>-0.923990</td>\n",
       "    </tr>\n",
       "    <tr>\n",
       "      <th>3</th>\n",
       "      <td>-0.379274</td>\n",
       "      <td>-0.285896</td>\n",
       "      <td>-0.006435</td>\n",
       "      <td>1.000000</td>\n",
       "      <td>0.191160</td>\n",
       "      <td>-0.022897</td>\n",
       "    </tr>\n",
       "    <tr>\n",
       "      <th>4</th>\n",
       "      <td>-0.475395</td>\n",
       "      <td>0.990424</td>\n",
       "      <td>-0.346976</td>\n",
       "      <td>0.191160</td>\n",
       "      <td>1.000000</td>\n",
       "      <td>0.033281</td>\n",
       "    </tr>\n",
       "    <tr>\n",
       "      <th>5</th>\n",
       "      <td>0.745192</td>\n",
       "      <td>-0.131407</td>\n",
       "      <td>-0.923990</td>\n",
       "      <td>-0.022897</td>\n",
       "      <td>0.033281</td>\n",
       "      <td>1.000000</td>\n",
       "    </tr>\n",
       "  </tbody>\n",
       "</table>\n",
       "</div>"
      ],
      "text/plain": [
       "          0         1         2         3         4         5\n",
       "0  1.000000  0.495194  0.489484 -0.379274 -0.475395  0.745192\n",
       "1  0.495194  1.000000  0.245807 -0.285896  0.990424 -0.131407\n",
       "2  0.489484  0.245807  1.000000 -0.006435 -0.346976 -0.923990\n",
       "3 -0.379274 -0.285896 -0.006435  1.000000  0.191160 -0.022897\n",
       "4 -0.475395  0.990424 -0.346976  0.191160  1.000000  0.033281\n",
       "5  0.745192 -0.131407 -0.923990 -0.022897  0.033281  1.000000"
      ]
     },
     "execution_count": 25,
     "metadata": {},
     "output_type": "execute_result"
    }
   ],
   "source": [
    "ans = pingouin.pcorr(pd.DataFrame(np.asarray([X,Y,Z,U,V,W]).T))\n",
    "ans"
   ]
  },
  {
   "cell_type": "code",
   "execution_count": 26,
   "id": "challenging-passing",
   "metadata": {},
   "outputs": [
    {
     "data": {
      "text/plain": [
       "<AxesSubplot:>"
      ]
     },
     "execution_count": 26,
     "metadata": {},
     "output_type": "execute_result"
    },
    {
     "data": {
      "image/png": "[encoded data removed]",
      "text/plain": [
       "<Figure size 432x288 with 2 Axes>"
      ]
     },
     "metadata": {
      "needs_background": "light"
     },
     "output_type": "display_data"
    }
   ],
   "source": [
    "sns.heatmap(ans)"
   ]
  },
  {
   "cell_type": "code",
   "execution_count": null,
   "id": "diagnostic-parts",
   "metadata": {},
   "outputs": [],
   "source": []
  }
 ],
 "metadata": {
  "kernelspec": {
   "display_name": "Python 3",
   "language": "python",
   "name": "python3"
  },
  "language_info": {
   "codemirror_mode": {
    "name": "ipython",
    "version": 3
   },
   "file_extension": ".py",
   "mimetype": "text/x-python",
   "name": "python",
   "nbconvert_exporter": "python",
   "pygments_lexer": "ipython3",
   "version": "3.8.3"
  }
 },
 "nbformat": 4,
 "nbformat_minor": 5
}
